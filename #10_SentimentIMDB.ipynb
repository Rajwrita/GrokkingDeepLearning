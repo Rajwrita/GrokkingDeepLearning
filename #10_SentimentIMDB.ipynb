{
  "nbformat": 4,
  "nbformat_minor": 0,
  "metadata": {
    "kernelspec": {
      "name": "python3",
      "display_name": "Python 3"
    },
    "language_info": {
      "codemirror_mode": {
        "name": "ipython",
        "version": 3
      },
      "file_extension": ".py",
      "mimetype": "text/x-python",
      "name": "python",
      "nbconvert_exporter": "python",
      "pygments_lexer": "ipython3",
      "version": "3.8.1"
    },
    "colab": {
      "name": "#10_SentimentIMDB.ipynb",
      "provenance": [],
      "collapsed_sections": [],
      "machine_shape": "hm",
      "include_colab_link": true
    },
    "accelerator": "GPU"
  },
  "cells": [
    {
      "cell_type": "markdown",
      "metadata": {
        "id": "view-in-github",
        "colab_type": "text"
      },
      "source": [
        "<a href=\"https://colab.research.google.com/github/ariG23498/GrokkingDeepLearning/blob/master/%2310_SentimentIMDB.ipynb\" target=\"_parent\"><img src=\"https://colab.research.google.com/assets/colab-badge.svg\" alt=\"Open In Colab\"/></a>"
      ]
    },
    {
      "cell_type": "markdown",
      "metadata": {
        "id": "PMf-nNpMuZRy",
        "colab_type": "text"
      },
      "source": [
        "# Imports"
      ]
    },
    {
      "cell_type": "code",
      "metadata": {
        "id": "9bTDrGcmCMaT",
        "colab_type": "code",
        "outputId": "34fbf5d9-705f-4831-9b90-3f43bbd473f7",
        "colab": {
          "base_uri": "https://localhost:8080/",
          "height": 102
        }
      },
      "source": [
        "import pandas as pd\n",
        "import nltk\n",
        "import string\n",
        "from sklearn.utils import shuffle\n",
        "nltk.download('punkt')\n",
        "nltk.download('stopwords')"
      ],
      "execution_count": 1,
      "outputs": [
        {
          "output_type": "stream",
          "text": [
            "[nltk_data] Downloading package punkt to /root/nltk_data...\n",
            "[nltk_data]   Unzipping tokenizers/punkt.zip.\n",
            "[nltk_data] Downloading package stopwords to /root/nltk_data...\n",
            "[nltk_data]   Unzipping corpora/stopwords.zip.\n"
          ],
          "name": "stdout"
        },
        {
          "output_type": "execute_result",
          "data": {
            "text/plain": [
              "True"
            ]
          },
          "metadata": {
            "tags": []
          },
          "execution_count": 1
        }
      ]
    },
    {
      "cell_type": "code",
      "metadata": {
        "id": "r_O6Cul4DJLk",
        "colab_type": "code",
        "outputId": "5dc53c85-b345-4621-a9b8-c11b8f93ea76",
        "colab": {
          "base_uri": "https://localhost:8080/",
          "height": 122
        }
      },
      "source": [
        "from google.colab import drive\n",
        "drive.mount('/content/drive')"
      ],
      "execution_count": 2,
      "outputs": [
        {
          "output_type": "stream",
          "text": [
            "Go to this URL in a browser: https://accounts.google.com/o/oauth2/auth?client_id=947318989803-6bn6qk8qdgf4n4g3pfee6491hc0brc4i.apps.googleusercontent.com&redirect_uri=urn%3aietf%3awg%3aoauth%3a2.0%3aoob&response_type=code&scope=email%20https%3a%2f%2fwww.googleapis.com%2fauth%2fdocs.test%20https%3a%2f%2fwww.googleapis.com%2fauth%2fdrive%20https%3a%2f%2fwww.googleapis.com%2fauth%2fdrive.photos.readonly%20https%3a%2f%2fwww.googleapis.com%2fauth%2fpeopleapi.readonly\n",
            "\n",
            "Enter your authorization code:\n",
            "··········\n",
            "Mounted at /content/drive\n"
          ],
          "name": "stdout"
        }
      ]
    },
    {
      "cell_type": "code",
      "metadata": {
        "id": "b-2ymhtDCMaa",
        "colab_type": "code",
        "outputId": "dea8fbc3-367a-4b3e-c285-5fcdb7788843",
        "colab": {
          "base_uri": "https://localhost:8080/",
          "height": 204
        }
      },
      "source": [
        "df = pd.read_csv('/content/drive/My Drive/Datasets/imdb_master.csv', encoding='latin-1')\n",
        "df = df.drop(columns=['Unnamed: 0'])\n",
        "df = shuffle(df)\n",
        "df.head()"
      ],
      "execution_count": 3,
      "outputs": [
        {
          "output_type": "execute_result",
          "data": {
            "text/html": [
              "<div>\n",
              "<style scoped>\n",
              "    .dataframe tbody tr th:only-of-type {\n",
              "        vertical-align: middle;\n",
              "    }\n",
              "\n",
              "    .dataframe tbody tr th {\n",
              "        vertical-align: top;\n",
              "    }\n",
              "\n",
              "    .dataframe thead th {\n",
              "        text-align: right;\n",
              "    }\n",
              "</style>\n",
              "<table border=\"1\" class=\"dataframe\">\n",
              "  <thead>\n",
              "    <tr style=\"text-align: right;\">\n",
              "      <th></th>\n",
              "      <th>type</th>\n",
              "      <th>review</th>\n",
              "      <th>label</th>\n",
              "      <th>file</th>\n",
              "    </tr>\n",
              "  </thead>\n",
              "  <tbody>\n",
              "    <tr>\n",
              "      <th>48969</th>\n",
              "      <td>train</td>\n",
              "      <td>My wife and I took our 13 year old son to see ...</td>\n",
              "      <td>pos</td>\n",
              "      <td>9073_10.txt</td>\n",
              "    </tr>\n",
              "    <tr>\n",
              "      <th>46544</th>\n",
              "      <td>train</td>\n",
              "      <td>\"Once upon a time there was a charming land ca...</td>\n",
              "      <td>pos</td>\n",
              "      <td>6891_9.txt</td>\n",
              "    </tr>\n",
              "    <tr>\n",
              "      <th>8279</th>\n",
              "      <td>test</td>\n",
              "      <td>I didn't know what to expect when I started wa...</td>\n",
              "      <td>neg</td>\n",
              "      <td>6201_1.txt</td>\n",
              "    </tr>\n",
              "    <tr>\n",
              "      <th>51621</th>\n",
              "      <td>train</td>\n",
              "      <td>We've seen it many times before. From \"Miami V...</td>\n",
              "      <td>unsup</td>\n",
              "      <td>1145_0.txt</td>\n",
              "    </tr>\n",
              "    <tr>\n",
              "      <th>20203</th>\n",
              "      <td>test</td>\n",
              "      <td>So well made, no CGI crap. Has anyone else bee...</td>\n",
              "      <td>pos</td>\n",
              "      <td>5684_8.txt</td>\n",
              "    </tr>\n",
              "  </tbody>\n",
              "</table>\n",
              "</div>"
            ],
            "text/plain": [
              "        type  ...         file\n",
              "48969  train  ...  9073_10.txt\n",
              "46544  train  ...   6891_9.txt\n",
              "8279    test  ...   6201_1.txt\n",
              "51621  train  ...   1145_0.txt\n",
              "20203   test  ...   5684_8.txt\n",
              "\n",
              "[5 rows x 4 columns]"
            ]
          },
          "metadata": {
            "tags": []
          },
          "execution_count": 3
        }
      ]
    },
    {
      "cell_type": "code",
      "metadata": {
        "id": "0DQbcg6uCMah",
        "colab_type": "code",
        "outputId": "577f2c66-4585-4377-d96d-0177c7e5369d",
        "colab": {
          "base_uri": "https://localhost:8080/",
          "height": 34
        }
      },
      "source": [
        "df['label'].unique()"
      ],
      "execution_count": 4,
      "outputs": [
        {
          "output_type": "execute_result",
          "data": {
            "text/plain": [
              "array(['pos', 'neg', 'unsup'], dtype=object)"
            ]
          },
          "metadata": {
            "tags": []
          },
          "execution_count": 4
        }
      ]
    },
    {
      "cell_type": "code",
      "metadata": {
        "id": "R9RbXAknCMam",
        "colab_type": "code",
        "outputId": "46b41709-fff7-47ef-ea7e-3a8748ff3c31",
        "colab": {
          "base_uri": "https://localhost:8080/",
          "height": 34
        }
      },
      "source": [
        "from sklearn import preprocessing\n",
        "\n",
        "label_encoder = preprocessing.LabelEncoder()\n",
        "df['label'] = label_encoder.fit_transform(df['label'])\n",
        "\n",
        "df['label'].unique()"
      ],
      "execution_count": 5,
      "outputs": [
        {
          "output_type": "execute_result",
          "data": {
            "text/plain": [
              "array([1, 0, 2])"
            ]
          },
          "metadata": {
            "tags": []
          },
          "execution_count": 5
        }
      ]
    },
    {
      "cell_type": "code",
      "metadata": {
        "id": "gtFPgn89c8Fw",
        "colab_type": "code",
        "outputId": "56544bf3-6817-4453-a9ab-a186ff37dbc0",
        "colab": {
          "base_uri": "https://localhost:8080/",
          "height": 204
        }
      },
      "source": [
        "df.head()"
      ],
      "execution_count": 6,
      "outputs": [
        {
          "output_type": "execute_result",
          "data": {
            "text/html": [
              "<div>\n",
              "<style scoped>\n",
              "    .dataframe tbody tr th:only-of-type {\n",
              "        vertical-align: middle;\n",
              "    }\n",
              "\n",
              "    .dataframe tbody tr th {\n",
              "        vertical-align: top;\n",
              "    }\n",
              "\n",
              "    .dataframe thead th {\n",
              "        text-align: right;\n",
              "    }\n",
              "</style>\n",
              "<table border=\"1\" class=\"dataframe\">\n",
              "  <thead>\n",
              "    <tr style=\"text-align: right;\">\n",
              "      <th></th>\n",
              "      <th>type</th>\n",
              "      <th>review</th>\n",
              "      <th>label</th>\n",
              "      <th>file</th>\n",
              "    </tr>\n",
              "  </thead>\n",
              "  <tbody>\n",
              "    <tr>\n",
              "      <th>48969</th>\n",
              "      <td>train</td>\n",
              "      <td>My wife and I took our 13 year old son to see ...</td>\n",
              "      <td>1</td>\n",
              "      <td>9073_10.txt</td>\n",
              "    </tr>\n",
              "    <tr>\n",
              "      <th>46544</th>\n",
              "      <td>train</td>\n",
              "      <td>\"Once upon a time there was a charming land ca...</td>\n",
              "      <td>1</td>\n",
              "      <td>6891_9.txt</td>\n",
              "    </tr>\n",
              "    <tr>\n",
              "      <th>8279</th>\n",
              "      <td>test</td>\n",
              "      <td>I didn't know what to expect when I started wa...</td>\n",
              "      <td>0</td>\n",
              "      <td>6201_1.txt</td>\n",
              "    </tr>\n",
              "    <tr>\n",
              "      <th>51621</th>\n",
              "      <td>train</td>\n",
              "      <td>We've seen it many times before. From \"Miami V...</td>\n",
              "      <td>2</td>\n",
              "      <td>1145_0.txt</td>\n",
              "    </tr>\n",
              "    <tr>\n",
              "      <th>20203</th>\n",
              "      <td>test</td>\n",
              "      <td>So well made, no CGI crap. Has anyone else bee...</td>\n",
              "      <td>1</td>\n",
              "      <td>5684_8.txt</td>\n",
              "    </tr>\n",
              "  </tbody>\n",
              "</table>\n",
              "</div>"
            ],
            "text/plain": [
              "        type  ...         file\n",
              "48969  train  ...  9073_10.txt\n",
              "46544  train  ...   6891_9.txt\n",
              "8279    test  ...   6201_1.txt\n",
              "51621  train  ...   1145_0.txt\n",
              "20203   test  ...   5684_8.txt\n",
              "\n",
              "[5 rows x 4 columns]"
            ]
          },
          "metadata": {
            "tags": []
          },
          "execution_count": 6
        }
      ]
    },
    {
      "cell_type": "code",
      "metadata": {
        "id": "cHf67kAaCMar",
        "colab_type": "code",
        "colab": {}
      },
      "source": [
        "train = df[df['type'] == 'train'].drop(columns=['type','file']).values\n",
        "test = df[df['type'] == 'test'].drop(columns=['type','file']).values"
      ],
      "execution_count": 0,
      "outputs": []
    },
    {
      "cell_type": "code",
      "metadata": {
        "id": "oQLpCNiBCMaw",
        "colab_type": "code",
        "outputId": "57e48f5c-443a-4997-8cab-7793931054b3",
        "colab": {
          "base_uri": "https://localhost:8080/",
          "height": 51
        }
      },
      "source": [
        "print('Length of Train: {}'.format(len(train)))\n",
        "print('Length of Test: {}'.format(len(test)))"
      ],
      "execution_count": 8,
      "outputs": [
        {
          "output_type": "stream",
          "text": [
            "Length of Train: 75000\n",
            "Length of Test: 25000\n"
          ],
          "name": "stdout"
        }
      ]
    },
    {
      "cell_type": "markdown",
      "metadata": {
        "id": "nykGs7aDfzai",
        "colab_type": "text"
      },
      "source": [
        "# Pre-processing"
      ]
    },
    {
      "cell_type": "code",
      "metadata": {
        "id": "0Mu6b7DiMdId",
        "colab_type": "code",
        "colab": {}
      },
      "source": [
        "def preprocess(sentence):\n",
        "  # Tokenize Contents\n",
        "  contentsTokenized = nltk.tokenize.word_tokenize(sentence)\n",
        "\n",
        "  # Remove the stop_words\n",
        "  stop_word_set = set(nltk.corpus.stopwords.words(\"english\"))\n",
        "  filteredContents_afterstop = []\n",
        "  for word in contentsTokenized:\n",
        "    if word not in stop_word_set:\n",
        "      filteredContents_afterstop.append(word)\n",
        "  \n",
        "  # Performing porterStemming\n",
        "  porterStemmer = nltk.stem.PorterStemmer()\n",
        "  filteredContents = [porterStemmer.stem(word) for word in filteredContents_afterstop]\n",
        "\n",
        "  # Remove Punctuations\n",
        "  excludePunctuation = set(string.punctuation)\n",
        "    \n",
        "  # manually add additional punctuation to remove\n",
        "  doubleSingleQuote = '\\'\\''\n",
        "  doubleDash = '--'\n",
        "  doubleTick = '``'\n",
        "\n",
        "  excludePunctuation.add(doubleSingleQuote)\n",
        "  excludePunctuation.add(doubleDash)\n",
        "  excludePunctuation.add(doubleTick)\n",
        "\n",
        "  filteredContents_afterpunc = []\n",
        "  for word in filteredContents_afterstop:\n",
        "    if word not in excludePunctuation:\n",
        "      filteredContents_afterpunc.append(word)\n",
        "\n",
        "  # Convert all to lower case\n",
        "  filteredContents_lower = [term.lower() for term in filteredContents_afterpunc]\n",
        "  return filteredContents_lower"
      ],
      "execution_count": 0,
      "outputs": []
    },
    {
      "cell_type": "code",
      "metadata": {
        "id": "3_XlgamSCMa3",
        "colab_type": "code",
        "colab": {}
      },
      "source": [
        "# token is a list of set\n",
        "# each set consists of words in the particular review\n",
        "token_train = list(map(lambda x: set(preprocess(x)),train[:,0]))\n",
        "token_test = list(map(lambda x: set(preprocess(x)),test[:,0]))"
      ],
      "execution_count": 0,
      "outputs": []
    },
    {
      "cell_type": "code",
      "metadata": {
        "id": "Wyk8xypOPUQ2",
        "colab_type": "code",
        "outputId": "ae72cfa7-f585-403d-a4b2-fff645b9b006",
        "colab": {
          "base_uri": "https://localhost:8080/",
          "height": 51
        }
      },
      "source": [
        "print(len(token_train))\n",
        "print(len(token_test))"
      ],
      "execution_count": 11,
      "outputs": [
        {
          "output_type": "stream",
          "text": [
            "75000\n",
            "25000\n"
          ],
          "name": "stdout"
        }
      ]
    },
    {
      "cell_type": "code",
      "metadata": {
        "id": "O2_-XT8qCMa7",
        "colab_type": "code",
        "outputId": "48bd66c3-32ed-40f0-ea99-27adb7d13041",
        "colab": {
          "base_uri": "https://localhost:8080/",
          "height": 34
        }
      },
      "source": [
        "# Total vocabulary\n",
        "vocab = set()\n",
        "for sentence in token_train:\n",
        "    for word in sentence:\n",
        "        if(len(word)>0):\n",
        "            vocab.add(word)\n",
        "vocab = list(vocab)\n",
        "\n",
        "print('Total vocabulary count TRAIN: {}'.format(len(vocab)))"
      ],
      "execution_count": 12,
      "outputs": [
        {
          "output_type": "stream",
          "text": [
            "Total vocabulary count TRAIN: 217750\n"
          ],
          "name": "stdout"
        }
      ]
    },
    {
      "cell_type": "code",
      "metadata": {
        "id": "M1rndxPCCMbA",
        "colab_type": "code",
        "outputId": "70715964-620a-4505-db6a-14a37fb7ad7b",
        "colab": {
          "base_uri": "https://localhost:8080/",
          "height": 34
        }
      },
      "source": [
        "# For each word in vocab there is an index TRAIN\n",
        "word2index = {}\n",
        "for i,word in enumerate(vocab):\n",
        "    word2index[word] = i\n",
        "print('Total word2index count: {}'.format(len(word2index)))"
      ],
      "execution_count": 13,
      "outputs": [
        {
          "output_type": "stream",
          "text": [
            "Total word2index count: 217750\n"
          ],
          "name": "stdout"
        }
      ]
    },
    {
      "cell_type": "code",
      "metadata": {
        "id": "g1S4s7-dCMbF",
        "colab_type": "code",
        "colab": {}
      },
      "source": [
        "# input_dataset is used to keep the indices of each words in each sentence TRAIN\n",
        "input_dataset_train = list()\n",
        "for sentence in token_train:\n",
        "    sent_indices = list()\n",
        "    for word in sentence:\n",
        "        try:\n",
        "            sent_indices.append(word2index[word])\n",
        "        except:\n",
        "            \"\"\n",
        "    input_dataset_train.append(list(sent_indices))\n",
        "\n",
        "# input_dataset is used to keep the indices of each words in each sentence TEST\n",
        "input_dataset_test = list()\n",
        "for sentence in token_test:\n",
        "    sent_indices = list()\n",
        "    for word in sentence:\n",
        "        try:\n",
        "            sent_indices.append(word2index[word])\n",
        "        except:\n",
        "            \"\"\n",
        "    input_dataset_test.append(list(sent_indices))"
      ],
      "execution_count": 0,
      "outputs": []
    },
    {
      "cell_type": "code",
      "metadata": {
        "id": "saaej-JgXJhu",
        "colab_type": "code",
        "colab": {}
      },
      "source": [
        "X_train = input_dataset_train\n",
        "y_train = train[:,1]\n",
        "\n",
        "X_test = input_dataset_test\n",
        "y_test = test[:,1]"
      ],
      "execution_count": 0,
      "outputs": []
    },
    {
      "cell_type": "code",
      "metadata": {
        "id": "l30p-SMBFzTl",
        "colab_type": "code",
        "colab": {}
      },
      "source": [
        "import numpy as np\n",
        "np.random.seed(1)"
      ],
      "execution_count": 0,
      "outputs": []
    },
    {
      "cell_type": "code",
      "metadata": {
        "id": "eGNe7FHKFb5R",
        "colab_type": "code",
        "colab": {}
      },
      "source": [
        "one_hot_train = np.zeros((len(y_train),3))\n",
        "for i,l in enumerate(y_train):\n",
        "  one_hot_train[i][l] = 1\n",
        "\n",
        "one_hot_test = np.zeros((len(y_test),3))\n",
        "for i,l in enumerate(y_test):\n",
        "  one_hot_test[i][l] = 1"
      ],
      "execution_count": 0,
      "outputs": []
    },
    {
      "cell_type": "code",
      "metadata": {
        "id": "SQFJZrz6Gpuv",
        "colab_type": "code",
        "colab": {}
      },
      "source": [
        "y_train = one_hot_train\n",
        "y_test = one_hot_test"
      ],
      "execution_count": 0,
      "outputs": []
    },
    {
      "cell_type": "code",
      "metadata": {
        "id": "iU-pv6wqGu38",
        "colab_type": "code",
        "outputId": "3d6c0dac-c628-4582-f673-b204530f2ca7",
        "colab": {
          "base_uri": "https://localhost:8080/",
          "height": 85
        }
      },
      "source": [
        "print(X_train[0][:10])\n",
        "print(y_train[0])\n",
        "print(X_test[0][:10])\n",
        "print(y_test[0])"
      ],
      "execution_count": 19,
      "outputs": [
        {
          "output_type": "stream",
          "text": [
            "[122278, 30004, 26102, 67433, 155704, 98065, 17091, 197385, 67860, 51747]\n",
            "[0. 1. 0.]\n",
            "[208108, 207395, 75374, 110641, 195337, 124033, 96217, 195619, 8702, 126591]\n",
            "[1. 0. 0.]\n"
          ],
          "name": "stdout"
        }
      ]
    },
    {
      "cell_type": "code",
      "metadata": {
        "id": "FNTCpl2jiNN8",
        "colab_type": "code",
        "colab": {}
      },
      "source": [
        "def sigmoid(x):\n",
        "  return 1/(1+np.exp(-x))"
      ],
      "execution_count": 0,
      "outputs": []
    },
    {
      "cell_type": "code",
      "metadata": {
        "id": "ZZMAbUX9-A4I",
        "colab_type": "code",
        "colab": {}
      },
      "source": [
        "alpha, iterations = (0.01, 30)\n",
        "hidden_size = 1000\n",
        "\n",
        "weights_0_1 = 0.2 * np.random.random((len(vocab),hidden_size))\n",
        "weights_1_2 = 0.2 * np.random.random((hidden_size,3)) - 0.1"
      ],
      "execution_count": 0,
      "outputs": []
    },
    {
      "cell_type": "code",
      "metadata": {
        "id": "6HR9Q2gBDrhq",
        "colab_type": "code",
        "outputId": "94d01669-11f2-4c18-c22a-d0e324b1b510",
        "colab": {
          "base_uri": "https://localhost:8080/",
          "height": 34
        }
      },
      "source": [
        "correct, total = (0,0)\n",
        "for iter in range(iterations):\n",
        "  # Enters each epoch\n",
        "  for i in range(len(X_train)):\n",
        "    # For individual review\n",
        "    x,y = (X_train[i],y_train[i])\n",
        "\n",
        "    # FORWARD PROP\n",
        "    layer_1 = sigmoid(np.sum(weights_0_1[x],axis=0))\n",
        "    layer_2 = sigmoid(np.dot(layer_1,weights_1_2))\n",
        "    # layer_1 --> (100,)\n",
        "    # layer_2 --> (3,)\n",
        "\n",
        "    # BACKWARD PROP\n",
        "    layer_2_delta = layer_2 - y\n",
        "    layer_1_delta = layer_2_delta.dot(weights_1_2.T)\n",
        "\n",
        "    weights_0_1[x] -= layer_1_delta * alpha\n",
        "    weights_1_2 -= np.outer(layer_1,layer_2_delta) * alpha\n",
        "    if(np.argmax(layer_2) == np.argmax(y)):\n",
        "      correct +=1\n",
        "    total += 1\n",
        "print('TRAIN Acc:', correct/total)"
      ],
      "execution_count": 26,
      "outputs": [
        {
          "output_type": "stream",
          "text": [
            "TRAIN Acc: 0.9480164444444444\n"
          ],
          "name": "stdout"
        }
      ]
    },
    {
      "cell_type": "code",
      "metadata": {
        "id": "WcQbXjiEIbwo",
        "colab_type": "code",
        "outputId": "09ea1254-1246-41ec-d25d-557d20a4aad8",
        "colab": {
          "base_uri": "https://localhost:8080/",
          "height": 34
        }
      },
      "source": [
        "correct,total = (0,0)\n",
        "for i in range(len(X_test)):\n",
        "  x = X_test[i]\n",
        "  y = y_test[i]\n",
        "\n",
        "  layer_1 = sigmoid(np.sum(weights_0_1[x],axis=0))\n",
        "  layer_2 = sigmoid(np.dot(layer_1,weights_1_2))\n",
        "  \n",
        "  if(np.argmax(layer_2) == np.argmax(y)):\n",
        "    correct +=1\n",
        "  total += 1\n",
        "print('TEST Acc:', correct/total)"
      ],
      "execution_count": 27,
      "outputs": [
        {
          "output_type": "stream",
          "text": [
            "TEST Acc: 0.22496\n"
          ],
          "name": "stdout"
        }
      ]
    }
  ]
}