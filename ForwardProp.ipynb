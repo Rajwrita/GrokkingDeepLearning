{
 "cells": [
  {
   "cell_type": "markdown",
   "metadata": {},
   "source": [
    "# Imports"
   ]
  },
  {
   "cell_type": "code",
   "execution_count": 1,
   "metadata": {},
   "outputs": [],
   "source": [
    "import numpy as np"
   ]
  },
  {
   "cell_type": "markdown",
   "metadata": {},
   "source": [
    "# Neural Network"
   ]
  },
  {
   "cell_type": "code",
   "execution_count": 1,
   "metadata": {},
   "outputs": [],
   "source": [
    "def prediction(inp,weight):\n",
    "    pred = inp*weight\n",
    "    return pred"
   ]
  },
  {
   "cell_type": "code",
   "execution_count": 3,
   "metadata": {},
   "outputs": [
    {
     "name": "stdout",
     "output_type": "stream",
     "text": [
      "0.8500000000000001\n",
      "0.9500000000000001\n",
      "1.0\n",
      "0.9\n"
     ]
    }
   ],
   "source": [
    "weight = 0.1\n",
    "n_toes = [8.5,9.5,10,9]\n",
    "for i in n_toes:\n",
    "    print(prediction(inp=i,weight=weight))"
   ]
  },
  {
   "cell_type": "markdown",
   "metadata": {},
   "source": [
    "The interface for a neural network is simple. It accepts an `input variable` as `information` and a\n",
    "`weight variable` as `knowledge` and outputs a `prediction`."
   ]
  },
  {
   "cell_type": "markdown",
   "metadata": {},
   "source": [
    "# Weight intuition"
   ]
  },
  {
   "cell_type": "code",
   "execution_count": 8,
   "metadata": {},
   "outputs": [
    {
     "name": "stdout",
     "output_type": "stream",
     "text": [
      "For Weight1\n",
      "0.0085\n",
      "0.0095\n",
      "0.01\n",
      "0.009000000000000001\n",
      "\n",
      "For Weight2\n",
      "8.005\n",
      "0.095\n",
      "0.1\n",
      "0.09\n"
     ]
    }
   ],
   "source": [
    "weight1 = 0.001\n",
    "weight2 = 0.01\n",
    "n_toes = [8.5,9.5,10,9]\n",
    "print(\"For Weight1\")\n",
    "for i in n_toes:\n",
    "    print(prediction(inp=i,weight=weight1))\n",
    "n_toes = [800.5,9.5,10,9] # The first n_toes must make a huge impact, \n",
    "                          # but it does not due to the sensitivity of the weight here\n",
    "print()\n",
    "print(\"For Weight2\")\n",
    "for i in n_toes:\n",
    "    print(prediction(inp=i,weight=weight2))"
   ]
  },
  {
   "cell_type": "markdown",
   "metadata": {},
   "source": [
    "`Weight` can be thought of as a `volume knob` or the `sensitivity` of the input. The weights determines the significance of an input to the output."
   ]
  },
  {
   "cell_type": "markdown",
   "metadata": {},
   "source": [
    "## Multiple input datapoints"
   ]
  },
  {
   "cell_type": "code",
   "execution_count": 17,
   "metadata": {
    "scrolled": true
   },
   "outputs": [
    {
     "name": "stdout",
     "output_type": "stream",
     "text": [
      "Total Prediction:  0.9800000000000001\n",
      "Total Prediction:  1.11\n",
      "Total Prediction:  1.1500000000000001\n"
     ]
    }
   ],
   "source": [
    "weight = [0.1,0.2,0.0]\n",
    "toes = [8.5, 9.5, 9.9, 9.0]\n",
    "wlrec = [0.65, 0.8, 0.8, 0.9]\n",
    "nfans = [1.2, 1.3, 0.5, 1.0]\n",
    "for i in range(0,len(weight)):\n",
    "    pred = prediction(weight[0],toes[i])+prediction(weight[1],wlrec[i])+prediction(weight[2],nfans[i])\n",
    "    print(\"Total Prediction: \",pred)"
   ]
  },
  {
   "cell_type": "markdown",
   "metadata": {},
   "source": [
    ">Here the multiple inputs can be thought of as different information corresponding to a single prediction, we can <br>either ignore them with 0.0 weights or check their sensitivity on the output by adjusting the weight knob"
   ]
  },
  {
   "cell_type": "markdown",
   "metadata": {},
   "source": [
    "# Challenge Vector Math"
   ]
  },
  {
   "cell_type": "code",
   "execution_count": 27,
   "metadata": {},
   "outputs": [],
   "source": [
    "def elementwise_multiplication(vec_a,vec_b):\n",
    "    assert(len(vec_a) == len(vec_b))\n",
    "    l = []\n",
    "    for i,j in zip(vec_a,vec_b):\n",
    "        l.append(i*j)\n",
    "    print(l)\n",
    "def elementwise_addition(vec_a, vec_b):\n",
    "    assert(len(vec_a) == len(vec_b))\n",
    "    l = []\n",
    "    for i,j in zip(vec_a,vec_b):\n",
    "        l.append(i+j)\n",
    "    print(l)\n",
    "def vector_sum(vec_a):\n",
    "    s = 0\n",
    "    for i in vec_a:\n",
    "        s = s+i\n",
    "    print(s)\n",
    "def vector_average(vec_a):\n",
    "    s = 0\n",
    "    for i in vec_a:\n",
    "        s = s+i\n",
    "    print(s/(len(vec_a)))"
   ]
  },
  {
   "cell_type": "code",
   "execution_count": 29,
   "metadata": {},
   "outputs": [
    {
     "name": "stdout",
     "output_type": "stream",
     "text": [
      "[1, 4, 9]\n",
      "[2, 4, 6]\n",
      "6\n",
      "2.0\n"
     ]
    }
   ],
   "source": [
    "elementwise_multiplication([1,2,3],[1,2,3])\n",
    "elementwise_addition([1,2,3],[1,2,3])\n",
    "vector_sum([1,2,3])\n",
    "vector_average([1,2,3])"
   ]
  },
  {
   "cell_type": "markdown",
   "metadata": {},
   "source": [
    "# Dot Product == Weighted Sum\n",
    "`Andrew Trask` states that the dot product gives us a notion of similarity between two vectors.<br>\n",
    "My take:<br>\n",
    "* The weightsprovide a means to accept correspoding inputs and ignore the others eg. `weights = [0,1]` means `input[0]` is taken into consideration for the model whereas `input[1]` is ignored.\n",
    "* The `and`, `or`, `not` analogy provides a dynamic way to `speak about the weights and inputs`.\n",
    "* The weighted sum is the `OR` of simultaneous `AND`."
   ]
  },
  {
   "cell_type": "markdown",
   "metadata": {},
   "source": [
    "# Single input to Multiple Predictions"
   ]
  },
  {
   "cell_type": "code",
   "execution_count": 30,
   "metadata": {},
   "outputs": [
    {
     "name": "stdout",
     "output_type": "stream",
     "text": [
      "[0.065, 0.16000000000000003, 0.24]\n"
     ]
    }
   ],
   "source": [
    "wlrec = [0.65, 0.8, 0.8, 0.9]\n",
    "weight = [0.1,0.2,0.3]\n",
    "classes = [wlrec[0]*weight[0],wlrec[1]*weight[1],wlrec[2]*weight[2]]\n",
    "print(classes)"
   ]
  },
  {
   "cell_type": "markdown",
   "metadata": {},
   "source": [
    "# Multiple inputs and Multiple Outputs"
   ]
  },
  {
   "cell_type": "code",
   "execution_count": 36,
   "metadata": {},
   "outputs": [
    {
     "name": "stdout",
     "output_type": "stream",
     "text": [
      "0.9800000000000001\n",
      "1.09\n",
      "0.49000000000000005\n"
     ]
    }
   ],
   "source": [
    "weight = [[0.1,0.2,0.0], # for hurt or not prediction\n",
    "          [0.1,0.0,0.2], # for win or loss prediction\n",
    "          [0.05,0.1,0.0]] # for happy or sad prediction\n",
    "toes = [8.5, 9.5, 9.9, 9.0]\n",
    "wlrec = [0.65, 0.8, 0.8, 0.9]\n",
    "nfans = [1.2, 1.3, 0.5, 1.0]\n",
    "weight = np.array(weight)\n",
    "toes = np.array(toes)\n",
    "wlrec = np.array(wlrec)\n",
    "nfans = np.array(nfans)\n",
    "inp = np.array([toes[0],wlrec[0],nfans[0]])\n",
    "hurt = inp.dot(weight[0,:])\n",
    "win = inp.dot(weight[1,:])\n",
    "sad = inp.dot(weight[2,:])\n",
    "print(hurt)\n",
    "print(win)\n",
    "print(sad)"
   ]
  },
  {
   "cell_type": "markdown",
   "metadata": {},
   "source": [
    "# Dot vs Matmul"
   ]
  },
  {
   "cell_type": "code",
   "execution_count": 4,
   "metadata": {},
   "outputs": [
    {
     "name": "stdout",
     "output_type": "stream",
     "text": [
      "mat1 shape:  (3,)\n",
      "mat2 shape:  (3,)\n",
      "mat_r:  14\n"
     ]
    }
   ],
   "source": [
    "mat1 = np.array([1,2,3])\n",
    "mat2 = np.array([1,2,3])\n",
    "print(\"mat1 shape: \",np.shape(mat1))\n",
    "print(\"mat2 shape: \",np.shape(mat2))\n",
    "mat_r = mat1.dot(mat2)\n",
    "print(\"mat_r: \",mat_r)"
   ]
  },
  {
   "cell_type": "code",
   "execution_count": 6,
   "metadata": {
    "scrolled": true
   },
   "outputs": [
    {
     "name": "stdout",
     "output_type": "stream",
     "text": [
      "mat1 shape:  (3,)\n",
      "mat2 shape:  (3, 1)\n",
      "mat_r:  [14]\n"
     ]
    }
   ],
   "source": [
    "mat1 = np.array([1,2,3])\n",
    "mat2 = np.array([[1],[2],[3]])\n",
    "print(\"mat1 shape: \",np.shape(mat1))\n",
    "print(\"mat2 shape: \",np.shape(mat2))\n",
    "mat_r = np.matmul(mat1,mat2)\n",
    "print(\"mat_r: \",mat_r)"
   ]
  }
 ],
 "metadata": {
  "kernelspec": {
   "display_name": "Python 3",
   "language": "python",
   "name": "python3"
  },
  "language_info": {
   "codemirror_mode": {
    "name": "ipython",
    "version": 3
   },
   "file_extension": ".py",
   "mimetype": "text/x-python",
   "name": "python",
   "nbconvert_exporter": "python",
   "pygments_lexer": "ipython3",
   "version": "3.8.1"
  }
 },
 "nbformat": 4,
 "nbformat_minor": 2
}
