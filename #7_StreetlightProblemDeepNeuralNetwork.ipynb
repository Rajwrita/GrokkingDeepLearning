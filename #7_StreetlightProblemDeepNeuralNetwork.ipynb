{
 "cells": [
  {
   "cell_type": "markdown",
   "metadata": {},
   "source": [
    "# Imports"
   ]
  },
  {
   "cell_type": "code",
   "execution_count": 1,
   "metadata": {},
   "outputs": [],
   "source": [
    "import numpy as  np\n",
    "import matplotlib.pyplot as plt\n",
    "%matplotlib inline"
   ]
  },
  {
   "cell_type": "markdown",
   "metadata": {},
   "source": [
    "# StreetLight Problem\n",
    "The problem is that in an unknown country the street lights have different signals that is to be decoded so that a stranger can walk or stop according to a specific state of the lights.<br>\n",
    "Here there are three light with their own individual states that collectively can mean to `stop` or to `walk`.\n",
    "\n"
   ]
  },
  {
   "cell_type": "code",
   "execution_count": 2,
   "metadata": {},
   "outputs": [],
   "source": [
    "streetlights = np.array([[1,0,1],\n",
    "                         [0,1,1],\n",
    "                         [0,0,1],\n",
    "                         [1,1,1],\n",
    "                         [0,1,1],\n",
    "                         [1,0,1],])\n",
    "walk_vs_stop = np.array([[0],\n",
    "                         [1],\n",
    "                         [0],\n",
    "                         [1],\n",
    "                         [1],\n",
    "                         [0]])\n",
    "np.random.seed(1)\n",
    "\n",
    "weights1 = np.random.rand(3,3)\n",
    "weights2 = np.random.rand(3,1)"
   ]
  },
  {
   "cell_type": "code",
   "execution_count": 3,
   "metadata": {
    "scrolled": false
   },
   "outputs": [
    {
     "name": "stdout",
     "output_type": "stream",
     "text": [
      "Shape of streetlights dataset (6, 3)\n",
      "Shape of walk_vs_stop dataset (6, 1)\n",
      "Shape of weights1 (3, 3)\n",
      "Shape of weights2 (3, 1)\n"
     ]
    }
   ],
   "source": [
    "print('Shape of streetlights dataset {shape}'.format(shape=streetlights.shape))\n",
    "print('Shape of walk_vs_stop dataset {shape}'.format(shape=walk_vs_stop.shape))\n",
    "print('Shape of weights1 {shape}'.format(shape=weights1.shape))\n",
    "print('Shape of weights2 {shape}'.format(shape=weights2.shape))"
   ]
  },
  {
   "cell_type": "code",
   "execution_count": 4,
   "metadata": {},
   "outputs": [],
   "source": [
    "def relu(x):\n",
    "    return (x > 0) * x\n",
    "def relu2deriv(x):\n",
    "    return (x > 0)"
   ]
  },
  {
   "cell_type": "markdown",
   "metadata": {},
   "source": [
    "# Intermediate Layer\n",
    "The `intermediate layer` can be thought of a `separate dataset layer` that has been made. The input to the intermediate layer is a culmination of the `real dataset` and `weights`. This creates it's own kind of dataset, that might have a `better correlation` to the `output` that we are looking for."
   ]
  },
  {
   "cell_type": "code",
   "execution_count": 5,
   "metadata": {},
   "outputs": [],
   "source": [
    "lr = 0.1\n",
    "errors = []\n",
    "weights_graph = []\n",
    "for iteration in range(100):\n",
    "    for index in range(len(streetlights)):\n",
    "        \n",
    "        pred1 = relu(streetlights[index] @ weights1)\n",
    "        pred2 = pred1 @ weights2\n",
    "\n",
    "        error_out = pred2 - walk_vs_stop[index]\n",
    "        error_inter = error_out * weights2\n",
    "\n",
    "        delta_weight_2 = (pred1.T * error_out).reshape(-1,1)\n",
    "        delta_weight_1 = streetlights[index] * error_inter * relu2deriv(pred1)\n",
    "        \n",
    "        weights1 = weights1 - (delta_weight_1)\n",
    "        weights2 = weights2 - (delta_weight_2)\n",
    "    if iteration % 10 == 0:\n",
    "        errors.append(error_out)\n",
    "        weights_graph.append(weights2.flatten())"
   ]
  },
  {
   "cell_type": "code",
   "execution_count": 9,
   "metadata": {},
   "outputs": [
    {
     "data": {
      "image/png": "[encoded data removed]",
      "text/plain": [
       "<Figure size 432x288 with 1 Axes>"
      ]
     },
     "metadata": {
      "needs_background": "light"
     },
     "output_type": "display_data"
    }
   ],
   "source": [
    "plt.plot(errors)\n",
    "plt.xlabel('10th epoch')\n",
    "plt.ylabel('Error of Outer Layer')\n",
    "plt.title('Error Graph')\n",
    "plt.show()"
   ]
  }
 ],
 "metadata": {
  "kernelspec": {
   "display_name": "Python 3",
   "language": "python",
   "name": "python3"
  },
  "language_info": {
   "codemirror_mode": {
    "name": "ipython",
    "version": 3
   },
   "file_extension": ".py",
   "mimetype": "text/x-python",
   "name": "python",
   "nbconvert_exporter": "python",
   "pygments_lexer": "ipython3",
   "version": "3.8.1"
  }
 },
 "nbformat": 4,
 "nbformat_minor": 4
}
